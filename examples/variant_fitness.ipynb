{
 "cells": [
  {
   "cell_type": "markdown",
   "metadata": {},
   "source": [
    "## Imports"
   ]
  },
  {
   "cell_type": "code",
   "execution_count": 1,
   "metadata": {},
   "outputs": [
    {
     "name": "stderr",
     "output_type": "stream",
     "text": [
      "/system/apps/userenv/schnecke/prot_xlstm/lib/python3.11/site-packages/tqdm/auto.py:21: TqdmWarning: IProgress not found. Please update jupyter and ipywidgets. See https://ipywidgets.readthedocs.io/en/stable/user_install.html\n",
      "  from .autonotebook import tqdm as notebook_tqdm\n"
     ]
    }
   ],
   "source": [
    "import torch\n",
    "import matplotlib.pyplot as plt\n",
    "\n",
    "from protxlstm.applications.fitness_prediction import single_mutation_landscape_xlstm, create_mutation_df\n",
    "from protxlstm.applications.msa_sampler import sample_msa\n",
    "from protxlstm.models.xlstm import xLSTMLMHeadModel\n",
    "from protxlstm.utils import load_sequences_from_msa_file, load_model, ID_TO_AA"
   ]
  },
  {
   "cell_type": "markdown",
   "metadata": {},
   "source": [
    "## Settings"
   ]
  },
  {
   "cell_type": "markdown",
   "metadata": {},
   "source": [
    "Please provide the path to your Prot-xLSTM model:"
   ]
  },
  {
   "cell_type": "code",
   "execution_count": 2,
   "metadata": {},
   "outputs": [],
   "source": [
    "checkpoint = \"../checkpoints/protxlstm_102M_60B\""
   ]
  },
  {
   "cell_type": "markdown",
   "metadata": {},
   "source": [
    "Provide your target sequence:"
   ]
  },
  {
   "cell_type": "code",
   "execution_count": 3,
   "metadata": {},
   "outputs": [],
   "source": [
    "target_sequence = \"MTARGLALGLLLLLLCPAQVFSQSCVWYGECGIAYGDKRYNCEYSGPPKPLPKDGYDLVQELCPGFFFGNVSLCCDVRQLQTLKDNLQLPLQFLSRCPSCFYNLLNLFCELTCSPRQSQFLNVTATEDYVDPVTNQTKTNVKELQYYVGQSFANAMYNACRDVEAPSSNDKALGLLCGKDADACNATNWIEYMFNKDNGQAPFTITPVFSDFPVHGMEPMNNATKGCDESVDEVTAPCSCQDCSIVCGPKPQPPPPPAPWTILGLDAMYVIMWITYMAFLLVFFGAFFAVWCYRKRYFVSEYTPIDSNIAFSVNASDKGEASCCDPVSAAFEGCLRRLFTRWGSFCVRNPGCVIFFSLVFITACSSGLVFVRVTTNPVDLWSAPSSQARLEKEYFDQHFGPFFRTEQLIIRAPLTDKHIYQPYPSGADVPFGPPLDIQILHQVLDLQIAIENITASYDNETVTLQDICLAPLSPYNTNCTILSVLNYFQNSHSVLDHKKGDDFFVYADYHTHFLYCVRAPASLNDTSLLHDPCLGTFGGPVFPWLVLGGYDDQNYNNATALVITFPVNNYYNDTEKLQRAQAWEKEFINFVKNYKNPNLTISFTAERSIEDELNRESDSDVFTVVISYAIMFLYISLALGHMKSCRRLLVDSKVSLGIAGILIVLSSVACSLGVFSYIGLPLTLIVIEVIPFLVLAVGVDNIFILVQAYQRDERLQGETLDQQLGRVLGEVAPSMFLSSFSETVAFFLGALSVMPAVHTFSLFAGLAVFIDFLLQITCFVSLLGLDIKRQEKNRLDIFCCVRGAEDGTSVQASESCLFRFFKNSYSPLLLKDWMRPIVIAIFVGVLSFSIAVLNKVDIGLDQSLSMPDDSYMVDYFKSISQYLHAGPPVYFVLEEGHDYTSSKGQNMVCGGMGCNNDSLVQQIFNAAQLDNYTRIGFAPSSWIDDYFDWVKPQSSCCRVDNITDQFCNASVVDPACVRCRPLTPEGKQRPQGGDFMRFLPMFLSDNPNPKCGKGGHAAYSSAVNILLGHGTRVGATYFMTYHTVLQTSADFIDALKKARLIASNVTETMGINGSAYRVFPYSVFYVFYEQYLTIIDDTIFNLGVSLGAIFLVTMVLLGCELWSAVIMCATIAMVLVNMFGVMWLWGISLNAVSLVNLVMSCGISVEFCSHITRAFTVSMKGSRVERAEEALAHMGSSVFSGITLTKFGGIVVLAFAKSQIFQIFYFRMYLAMVLLGATHGLIFLPVLLSYIGPSVNKAKSCATEERYKGTERERLLNF\""
   ]
  },
  {
   "cell_type": "markdown",
   "metadata": {},
   "source": [
    "Set the position in the target which you want to mutate:"
   ]
  },
  {
   "cell_type": "code",
   "execution_count": 4,
   "metadata": {},
   "outputs": [],
   "source": [
    "mutation_positions = [5, 10] # Remark: indexing based 1"
   ]
  },
  {
   "cell_type": "markdown",
   "metadata": {},
   "source": [
    "Define your context sequences either by providing a path to an MSA file or by entering a list of protein sequences:"
   ]
  },
  {
   "cell_type": "code",
   "execution_count": 5,
   "metadata": {},
   "outputs": [],
   "source": [
    "msa_path = \"./example_msas/NPC1_HUMAN.a3m\""
   ]
  },
  {
   "cell_type": "markdown",
   "metadata": {},
   "source": [
    "Set the number of sequences to sample as context and the maximum number of context tokens. In number of context sequences is set to -1, all sequences are used (within the limit of the maximum number of context tokens):"
   ]
  },
  {
   "cell_type": "code",
   "execution_count": 6,
   "metadata": {},
   "outputs": [],
   "source": [
    "num_context_sequences = 200\n",
    "num_context_tokens = 2**15"
   ]
  },
  {
   "cell_type": "markdown",
   "metadata": {},
   "source": [
    "Set your device:"
   ]
  },
  {
   "cell_type": "code",
   "execution_count": 7,
   "metadata": {},
   "outputs": [],
   "source": [
    "device = \"cuda:0\""
   ]
  },
  {
   "cell_type": "markdown",
   "metadata": {},
   "source": [
    "## Prepare Context and Target sequences"
   ]
  },
  {
   "cell_type": "markdown",
   "metadata": {},
   "source": [
    "Create a dataframe with all single mutations:"
   ]
  },
  {
   "cell_type": "code",
   "execution_count": 8,
   "metadata": {},
   "outputs": [],
   "source": [
    "df_mutations = create_mutation_df(target_sequence, mutation_positions)"
   ]
  },
  {
   "cell_type": "markdown",
   "metadata": {},
   "source": [
    "Retrieve context sequences:"
   ]
  },
  {
   "cell_type": "code",
   "execution_count": 9,
   "metadata": {},
   "outputs": [
    {
     "name": "stdout",
     "output_type": "stream",
     "text": [
      "Number of context sequences: 25 (31,950 tokens)\n"
     ]
    }
   ],
   "source": [
    "if msa_path is not None and num_context_sequences != 0:\n",
    "    msa_sequences = [msa.upper() for msa in load_sequences_from_msa_file(msa_path)]\n",
    "    context_sequences = sample_msa(msa_sequences, max_context_sequences=num_context_sequences, context_length=num_context_tokens) + [target_sequence]\n",
    "\n",
    "else:\n",
    "    context_sequences = [target_sequence]\n",
    "\n",
    "print(f'Number of context sequences: {len(context_sequences)} ({len(context_sequences)*len(context_sequences[0]):,} tokens)')"
   ]
  },
  {
   "cell_type": "markdown",
   "metadata": {},
   "source": [
    "## Load the model"
   ]
  },
  {
   "cell_type": "code",
   "execution_count": 10,
   "metadata": {},
   "outputs": [
    {
     "name": "stdout",
     "output_type": "stream",
     "text": [
      "detected slstm_block\n",
      "In newest xlstm\n"
     ]
    }
   ],
   "source": [
    "# load the model\n",
    "\n",
    "config_update_kwargs = {\n",
    "                \"mlstm_backend\": \"chunkwise_variable\",\n",
    "                \"mlstm_chunksize\": 1024,\n",
    "                \"mlstm_return_last_state\": True}\n",
    "\n",
    "model = load_model(\n",
    "    checkpoint,\n",
    "    model_class=xLSTMLMHeadModel,\n",
    "    device=device,\n",
    "    dtype=torch.bfloat16,\n",
    "    **config_update_kwargs,\n",
    "    )\n",
    "model = model.eval()"
   ]
  },
  {
   "cell_type": "code",
   "execution_count": 11,
   "metadata": {},
   "outputs": [
    {
     "name": "stdout",
     "output_type": "stream",
     "text": [
      "cuda:0\n"
     ]
    }
   ],
   "source": [
    "print(next(model.parameters()).device)"
   ]
  },
  {
   "cell_type": "markdown",
   "metadata": {},
   "source": [
    "## Calculate mutation effects"
   ]
  },
  {
   "cell_type": "code",
   "execution_count": 12,
   "metadata": {},
   "outputs": [
    {
     "name": "stderr",
     "output_type": "stream",
     "text": [
      "Generating mutational landscape: 100%|██████████| 2/2 [00:00<00:00,  6.59it/s]\n"
     ]
    }
   ],
   "source": [
    "df_mutations, _ = single_mutation_landscape_xlstm(model, df_mutations, context_sequences, chunk_chunk_size=2**15)  # chunk_chunk_size determines how many tokens of the context sequence are processed at once; the lower the less GPU memory is needed"
   ]
  },
  {
   "cell_type": "code",
   "execution_count": 13,
   "metadata": {},
   "outputs": [
    {
     "data": {
      "text/html": [
       "<div>\n",
       "<style scoped>\n",
       "    .dataframe tbody tr th:only-of-type {\n",
       "        vertical-align: middle;\n",
       "    }\n",
       "\n",
       "    .dataframe tbody tr th {\n",
       "        vertical-align: top;\n",
       "    }\n",
       "\n",
       "    .dataframe thead th {\n",
       "        text-align: right;\n",
       "    }\n",
       "</style>\n",
       "<table border=\"1\" class=\"dataframe\">\n",
       "  <thead>\n",
       "    <tr style=\"text-align: right;\">\n",
       "      <th></th>\n",
       "      <th>mutation</th>\n",
       "      <th>position</th>\n",
       "      <th>mutation_idx</th>\n",
       "      <th>effect</th>\n",
       "    </tr>\n",
       "  </thead>\n",
       "  <tbody>\n",
       "    <tr>\n",
       "      <th>0</th>\n",
       "      <td>G5L</td>\n",
       "      <td>4</td>\n",
       "      <td>4</td>\n",
       "      <td>-0.603041</td>\n",
       "    </tr>\n",
       "    <tr>\n",
       "      <th>1</th>\n",
       "      <td>G5A</td>\n",
       "      <td>4</td>\n",
       "      <td>5</td>\n",
       "      <td>-0.746890</td>\n",
       "    </tr>\n",
       "    <tr>\n",
       "      <th>2</th>\n",
       "      <td>G5G</td>\n",
       "      <td>4</td>\n",
       "      <td>6</td>\n",
       "      <td>0.000000</td>\n",
       "    </tr>\n",
       "    <tr>\n",
       "      <th>3</th>\n",
       "      <td>G5V</td>\n",
       "      <td>4</td>\n",
       "      <td>7</td>\n",
       "      <td>-0.581367</td>\n",
       "    </tr>\n",
       "    <tr>\n",
       "      <th>4</th>\n",
       "      <td>G5S</td>\n",
       "      <td>4</td>\n",
       "      <td>8</td>\n",
       "      <td>0.029412</td>\n",
       "    </tr>\n",
       "    <tr>\n",
       "      <th>5</th>\n",
       "      <td>G5E</td>\n",
       "      <td>4</td>\n",
       "      <td>9</td>\n",
       "      <td>-0.731810</td>\n",
       "    </tr>\n",
       "    <tr>\n",
       "      <th>6</th>\n",
       "      <td>G5R</td>\n",
       "      <td>4</td>\n",
       "      <td>10</td>\n",
       "      <td>-0.753650</td>\n",
       "    </tr>\n",
       "    <tr>\n",
       "      <th>7</th>\n",
       "      <td>G5T</td>\n",
       "      <td>4</td>\n",
       "      <td>11</td>\n",
       "      <td>-0.555499</td>\n",
       "    </tr>\n",
       "    <tr>\n",
       "      <th>8</th>\n",
       "      <td>G5I</td>\n",
       "      <td>4</td>\n",
       "      <td>12</td>\n",
       "      <td>-1.144047</td>\n",
       "    </tr>\n",
       "    <tr>\n",
       "      <th>9</th>\n",
       "      <td>G5D</td>\n",
       "      <td>4</td>\n",
       "      <td>13</td>\n",
       "      <td>-0.916602</td>\n",
       "    </tr>\n",
       "    <tr>\n",
       "      <th>10</th>\n",
       "      <td>G5P</td>\n",
       "      <td>4</td>\n",
       "      <td>14</td>\n",
       "      <td>-0.586344</td>\n",
       "    </tr>\n",
       "    <tr>\n",
       "      <th>11</th>\n",
       "      <td>G5K</td>\n",
       "      <td>4</td>\n",
       "      <td>15</td>\n",
       "      <td>-1.113570</td>\n",
       "    </tr>\n",
       "    <tr>\n",
       "      <th>12</th>\n",
       "      <td>G5Q</td>\n",
       "      <td>4</td>\n",
       "      <td>16</td>\n",
       "      <td>-0.924181</td>\n",
       "    </tr>\n",
       "    <tr>\n",
       "      <th>13</th>\n",
       "      <td>G5N</td>\n",
       "      <td>4</td>\n",
       "      <td>17</td>\n",
       "      <td>-1.152415</td>\n",
       "    </tr>\n",
       "    <tr>\n",
       "      <th>14</th>\n",
       "      <td>G5F</td>\n",
       "      <td>4</td>\n",
       "      <td>18</td>\n",
       "      <td>-1.426845</td>\n",
       "    </tr>\n",
       "    <tr>\n",
       "      <th>15</th>\n",
       "      <td>G5Y</td>\n",
       "      <td>4</td>\n",
       "      <td>19</td>\n",
       "      <td>-2.032881</td>\n",
       "    </tr>\n",
       "    <tr>\n",
       "      <th>16</th>\n",
       "      <td>G5M</td>\n",
       "      <td>4</td>\n",
       "      <td>20</td>\n",
       "      <td>-1.954696</td>\n",
       "    </tr>\n",
       "    <tr>\n",
       "      <th>17</th>\n",
       "      <td>G5H</td>\n",
       "      <td>4</td>\n",
       "      <td>21</td>\n",
       "      <td>-1.403034</td>\n",
       "    </tr>\n",
       "    <tr>\n",
       "      <th>18</th>\n",
       "      <td>G5W</td>\n",
       "      <td>4</td>\n",
       "      <td>22</td>\n",
       "      <td>-2.687571</td>\n",
       "    </tr>\n",
       "    <tr>\n",
       "      <th>19</th>\n",
       "      <td>G5C</td>\n",
       "      <td>4</td>\n",
       "      <td>23</td>\n",
       "      <td>-1.569767</td>\n",
       "    </tr>\n",
       "    <tr>\n",
       "      <th>20</th>\n",
       "      <td>L10L</td>\n",
       "      <td>9</td>\n",
       "      <td>4</td>\n",
       "      <td>0.000000</td>\n",
       "    </tr>\n",
       "    <tr>\n",
       "      <th>21</th>\n",
       "      <td>L10A</td>\n",
       "      <td>9</td>\n",
       "      <td>5</td>\n",
       "      <td>-0.289046</td>\n",
       "    </tr>\n",
       "    <tr>\n",
       "      <th>22</th>\n",
       "      <td>L10G</td>\n",
       "      <td>9</td>\n",
       "      <td>6</td>\n",
       "      <td>-0.834807</td>\n",
       "    </tr>\n",
       "    <tr>\n",
       "      <th>23</th>\n",
       "      <td>L10V</td>\n",
       "      <td>9</td>\n",
       "      <td>7</td>\n",
       "      <td>0.547986</td>\n",
       "    </tr>\n",
       "    <tr>\n",
       "      <th>24</th>\n",
       "      <td>L10S</td>\n",
       "      <td>9</td>\n",
       "      <td>8</td>\n",
       "      <td>-0.265457</td>\n",
       "    </tr>\n",
       "    <tr>\n",
       "      <th>25</th>\n",
       "      <td>L10E</td>\n",
       "      <td>9</td>\n",
       "      <td>9</td>\n",
       "      <td>-0.659279</td>\n",
       "    </tr>\n",
       "    <tr>\n",
       "      <th>26</th>\n",
       "      <td>L10R</td>\n",
       "      <td>9</td>\n",
       "      <td>10</td>\n",
       "      <td>-1.655521</td>\n",
       "    </tr>\n",
       "    <tr>\n",
       "      <th>27</th>\n",
       "      <td>L10T</td>\n",
       "      <td>9</td>\n",
       "      <td>11</td>\n",
       "      <td>-0.650006</td>\n",
       "    </tr>\n",
       "    <tr>\n",
       "      <th>28</th>\n",
       "      <td>L10I</td>\n",
       "      <td>9</td>\n",
       "      <td>12</td>\n",
       "      <td>-0.575414</td>\n",
       "    </tr>\n",
       "    <tr>\n",
       "      <th>29</th>\n",
       "      <td>L10D</td>\n",
       "      <td>9</td>\n",
       "      <td>13</td>\n",
       "      <td>-1.036923</td>\n",
       "    </tr>\n",
       "    <tr>\n",
       "      <th>30</th>\n",
       "      <td>L10P</td>\n",
       "      <td>9</td>\n",
       "      <td>14</td>\n",
       "      <td>-2.137072</td>\n",
       "    </tr>\n",
       "    <tr>\n",
       "      <th>31</th>\n",
       "      <td>L10K</td>\n",
       "      <td>9</td>\n",
       "      <td>15</td>\n",
       "      <td>-2.056777</td>\n",
       "    </tr>\n",
       "    <tr>\n",
       "      <th>32</th>\n",
       "      <td>L10Q</td>\n",
       "      <td>9</td>\n",
       "      <td>16</td>\n",
       "      <td>-0.853509</td>\n",
       "    </tr>\n",
       "    <tr>\n",
       "      <th>33</th>\n",
       "      <td>L10N</td>\n",
       "      <td>9</td>\n",
       "      <td>17</td>\n",
       "      <td>-2.058931</td>\n",
       "    </tr>\n",
       "    <tr>\n",
       "      <th>34</th>\n",
       "      <td>L10F</td>\n",
       "      <td>9</td>\n",
       "      <td>18</td>\n",
       "      <td>-2.009854</td>\n",
       "    </tr>\n",
       "    <tr>\n",
       "      <th>35</th>\n",
       "      <td>L10Y</td>\n",
       "      <td>9</td>\n",
       "      <td>19</td>\n",
       "      <td>-3.359277</td>\n",
       "    </tr>\n",
       "    <tr>\n",
       "      <th>36</th>\n",
       "      <td>L10M</td>\n",
       "      <td>9</td>\n",
       "      <td>20</td>\n",
       "      <td>-1.806093</td>\n",
       "    </tr>\n",
       "    <tr>\n",
       "      <th>37</th>\n",
       "      <td>L10H</td>\n",
       "      <td>9</td>\n",
       "      <td>21</td>\n",
       "      <td>-2.128499</td>\n",
       "    </tr>\n",
       "    <tr>\n",
       "      <th>38</th>\n",
       "      <td>L10W</td>\n",
       "      <td>9</td>\n",
       "      <td>22</td>\n",
       "      <td>-3.312122</td>\n",
       "    </tr>\n",
       "    <tr>\n",
       "      <th>39</th>\n",
       "      <td>L10C</td>\n",
       "      <td>9</td>\n",
       "      <td>23</td>\n",
       "      <td>-1.279672</td>\n",
       "    </tr>\n",
       "  </tbody>\n",
       "</table>\n",
       "</div>"
      ],
      "text/plain": [
       "   mutation  position  mutation_idx    effect\n",
       "0       G5L         4             4 -0.603041\n",
       "1       G5A         4             5 -0.746890\n",
       "2       G5G         4             6  0.000000\n",
       "3       G5V         4             7 -0.581367\n",
       "4       G5S         4             8  0.029412\n",
       "5       G5E         4             9 -0.731810\n",
       "6       G5R         4            10 -0.753650\n",
       "7       G5T         4            11 -0.555499\n",
       "8       G5I         4            12 -1.144047\n",
       "9       G5D         4            13 -0.916602\n",
       "10      G5P         4            14 -0.586344\n",
       "11      G5K         4            15 -1.113570\n",
       "12      G5Q         4            16 -0.924181\n",
       "13      G5N         4            17 -1.152415\n",
       "14      G5F         4            18 -1.426845\n",
       "15      G5Y         4            19 -2.032881\n",
       "16      G5M         4            20 -1.954696\n",
       "17      G5H         4            21 -1.403034\n",
       "18      G5W         4            22 -2.687571\n",
       "19      G5C         4            23 -1.569767\n",
       "20     L10L         9             4  0.000000\n",
       "21     L10A         9             5 -0.289046\n",
       "22     L10G         9             6 -0.834807\n",
       "23     L10V         9             7  0.547986\n",
       "24     L10S         9             8 -0.265457\n",
       "25     L10E         9             9 -0.659279\n",
       "26     L10R         9            10 -1.655521\n",
       "27     L10T         9            11 -0.650006\n",
       "28     L10I         9            12 -0.575414\n",
       "29     L10D         9            13 -1.036923\n",
       "30     L10P         9            14 -2.137072\n",
       "31     L10K         9            15 -2.056777\n",
       "32     L10Q         9            16 -0.853509\n",
       "33     L10N         9            17 -2.058931\n",
       "34     L10F         9            18 -2.009854\n",
       "35     L10Y         9            19 -3.359277\n",
       "36     L10M         9            20 -1.806093\n",
       "37     L10H         9            21 -2.128499\n",
       "38     L10W         9            22 -3.312122\n",
       "39     L10C         9            23 -1.279672"
      ]
     },
     "metadata": {},
     "output_type": "display_data"
    }
   ],
   "source": [
    "display(df_mutations)"
   ]
  },
  {
   "cell_type": "markdown",
   "metadata": {},
   "source": [
    "## Visualization\n",
    "\n",
    "Amino acids are sorted by their predicted log-likelihood for the mutated position. \\\n",
    "Positive values indicate that the amino acid is more likely than the wildtype and vice versa."
   ]
  },
  {
   "cell_type": "code",
   "execution_count": 14,
   "metadata": {},
   "outputs": [],
   "source": [
    "# mutation_position = input(f\"For which of the mutated positions do you want to visualize the mutation effects (one of {mutation_positions})?\")\n",
    "mutation_position = 5"
   ]
  },
  {
   "cell_type": "code",
   "execution_count": 15,
   "metadata": {},
   "outputs": [
    {
     "data": {
      "image/png": "[encoded data removed]",
      "text/plain": [
       "<Figure size 600x400 with 1 Axes>"
      ]
     },
     "metadata": {},
     "output_type": "display_data"
    }
   ],
   "source": [
    "# Example data for the 20 amino acids and their scores at position 5\n",
    "df_ = df_mutations[df_mutations.position == int(mutation_position)-1]\n",
    "amino_acids = df_.mutation_idx.apply(lambda x : ID_TO_AA[x]).tolist()\n",
    "scores = df_.effect.tolist()\n",
    "# scores = list(mut_effects.cpu().numpy())\n",
    "\n",
    "sorted_data = sorted(zip(scores, amino_acids), reverse=True)\n",
    "scores, amino_acids = zip(*sorted_data)\n",
    "\n",
    "# Create the bar chart\n",
    "plt.figure(figsize=(6, 4))\n",
    "bars = plt.barh(amino_acids, scores, color='#3073AD')\n",
    "plt.xlabel('Mutation Effect')\n",
    "plt.ylabel('Amino Acids')\n",
    "plt.gca().set_yticks([])\n",
    "plt.gca().invert_yaxis()  # Invert y-axis to display highest scores at the top\n",
    "\n",
    "# Annotate each bar with the amino acid letter\n",
    "for bar, amino_acid in zip(bars, amino_acids):\n",
    "    x = 0.02 if bar.get_width() < 0 else -0.02\n",
    "    plt.text(x, bar.get_y() + bar.get_height() / 2, \n",
    "             amino_acid, ha='left' if bar.get_width() < 0 else 'right', \n",
    "             va='center', color='black', fontsize=10)\n",
    "\n",
    "plt.show()"
   ]
  }
 ],
 "metadata": {
  "kernelspec": {
   "display_name": "prot_xlstm",
   "language": "python",
   "name": "python3"
  },
  "language_info": {
   "codemirror_mode": {
    "name": "ipython",
    "version": 3
   },
   "file_extension": ".py",
   "mimetype": "text/x-python",
   "name": "python",
   "nbconvert_exporter": "python",
   "pygments_lexer": "ipython3",
   "version": "3.11.10"
  }
 },
 "nbformat": 4,
 "nbformat_minor": 2
}
